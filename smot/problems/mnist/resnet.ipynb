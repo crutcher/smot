{
 "cells": [
  {
   "cell_type": "code",
   "execution_count": 1,
   "metadata": {},
   "outputs": [],
   "source": [
    "import datetime\n",
    "import os\n",
    "\n",
    "import tensorboard\n",
    "import tensorflow as tf\n",
    "\n",
    "import tensorflow.keras.applications.resnet\n",
    "\n",
    "from smot.jupyter import model_reports\n",
    "from smot.problems.mnist import mnist_lib"
   ]
  },
  {
   "cell_type": "code",
   "execution_count": 2,
   "metadata": {
    "pycharm": {
     "name": "#%%\n"
    }
   },
   "outputs": [],
   "source": [
    "(x_train, y_train), (x_test, y_test) = mnist_lib.load_mnist_data_28x28x1()"
   ]
  },
  {
   "cell_type": "code",
   "execution_count": 3,
   "metadata": {
    "pycharm": {
     "name": "#%%\n"
    }
   },
   "outputs": [],
   "source": [
    "class IdentityBlock(tf.keras.Model):\n",
    "    def __init__(self, filters, kernel_size=3):\n",
    "        super(IdentityBlock, self).__init__(name=\"\")\n",
    "\n",
    "        self.conv1 = tf.keras.layers.Conv2D(\n",
    "            filters=filters, kernel_size=kernel_size, padding=\"same\"\n",
    "        )\n",
    "        self.bn1 = tf.keras.layers.BatchNormalization()\n",
    "\n",
    "        self.conv2 = tf.keras.layers.Conv2D(\n",
    "            filters=filters,\n",
    "            kernel_size=kernel_size,\n",
    "            padding=\"same\",\n",
    "        )\n",
    "        self.bn2 = tf.keras.layers.BatchNormalization()\n",
    "\n",
    "        self.act = tf.keras.layers.Activation(\"relu\")\n",
    "        self.add = tf.keras.layers.Add()\n",
    "\n",
    "    def call(self, input_tensor):\n",
    "        x = self.conv1(input_tensor)\n",
    "        x = self.bn1(x)\n",
    "        x = self.act(x)\n",
    "\n",
    "        x = self.conv2(x)\n",
    "        x = self.bn2(x)\n",
    "\n",
    "        x = self.add([x, input_tensor])\n",
    "        x = self.act(x)\n",
    "        return x\n",
    "\n",
    "\n",
    "class ResNetSmall(tf.keras.Model):\n",
    "    def __init__(self, num_classes, *, input_shape):\n",
    "        super().__init__()\n",
    "        self.conv = tf.keras.layers.Conv2D(\n",
    "            64, 7, input_shape=input_shape, padding=\"same\"\n",
    "        )\n",
    "        self.bn = tf.keras.layers.BatchNormalization()\n",
    "        self.act = tf.keras.layers.Activation(\"relu\")\n",
    "        self.max_pool = tf.keras.layers.MaxPool2D((3, 3))\n",
    "\n",
    "        self.id1a = IdentityBlock(64, 3)\n",
    "        self.id1b = IdentityBlock(64, 3)\n",
    "\n",
    "        self.global_pool = tf.keras.layers.GlobalAveragePooling2D()\n",
    "        self.classifier = tf.keras.layers.Dense(num_classes, activation=\"softmax\")\n",
    "\n",
    "    def call(self, inputs):\n",
    "        x = self.conv(inputs)\n",
    "        x = self.bn(x)\n",
    "        x = self.act(x)\n",
    "        x = self.max_pool(x)\n",
    "\n",
    "        x = self.id1a(x)\n",
    "        x = self.id1b(x)\n",
    "\n",
    "        x = self.global_pool(x)\n",
    "        return self.classifier(x)\n",
    "\n",
    "\n",
    "model = ResNetSmall(10, input_shape=mnist_lib.INPUT_SHAPE)\n",
    "\n",
    "model.compile(\n",
    "    optimizer=tf.keras.optimizers.Adam(),\n",
    "    loss=tf.keras.losses.CategoricalCrossentropy(),\n",
    "    metrics=[\"accuracy\"],\n",
    ")\n",
    "\n",
    "# Print the model summary.\n",
    "# model.summary()"
   ]
  },
  {
   "cell_type": "code",
   "execution_count": 4,
   "metadata": {
    "pycharm": {
     "name": "#%%\n"
    },
    "scrolled": false
   },
   "outputs": [
    {
     "data": {
      "text/html": [
       "\n",
       "      <iframe id=\"tensorboard-frame-c93672196ffac9f8\" width=\"100%\" height=\"800\" frameborder=\"0\">\n",
       "      </iframe>\n",
       "      <script>\n",
       "        (function() {\n",
       "          const frame = document.getElementById(\"tensorboard-frame-c93672196ffac9f8\");\n",
       "          const url = new URL(\"/\", window.location);\n",
       "          const port = 6006;\n",
       "          if (port) {\n",
       "            url.port = port;\n",
       "          }\n",
       "          frame.src = url;\n",
       "        })();\n",
       "      </script>\n",
       "    "
      ],
      "text/plain": [
       "<IPython.core.display.HTML object>"
      ]
     },
     "metadata": {},
     "output_type": "display_data"
    },
    {
     "name": "stdout",
     "output_type": "stream",
     "text": [
      "Epoch 1/200\n",
      "375/375 [==============================] - 7s 16ms/step - loss: 0.5947 - accuracy: 0.8398 - val_loss: 3.7091 - val_accuracy: 0.1623\n",
      "Epoch 2/200\n",
      "375/375 [==============================] - 6s 14ms/step - loss: 0.0817 - accuracy: 0.9783 - val_loss: 0.3999 - val_accuracy: 0.8674\n",
      "Epoch 3/200\n",
      "375/375 [==============================] - 6s 14ms/step - loss: 0.0612 - accuracy: 0.9818 - val_loss: 0.1347 - val_accuracy: 0.9576\n",
      "Epoch 4/200\n",
      "375/375 [==============================] - 6s 14ms/step - loss: 0.0475 - accuracy: 0.9859 - val_loss: 0.1114 - val_accuracy: 0.9658\n",
      "Epoch 5/200\n",
      "375/375 [==============================] - 6s 14ms/step - loss: 0.0431 - accuracy: 0.9878 - val_loss: 0.1197 - val_accuracy: 0.9626\n",
      "Epoch 6/200\n",
      "375/375 [==============================] - 6s 14ms/step - loss: 0.0394 - accuracy: 0.9883 - val_loss: 0.2862 - val_accuracy: 0.9213\n",
      "Epoch 7/200\n",
      "375/375 [==============================] - 6s 14ms/step - loss: 0.0337 - accuracy: 0.9899 - val_loss: 0.0715 - val_accuracy: 0.9777\n",
      "Epoch 8/200\n",
      "375/375 [==============================] - 6s 14ms/step - loss: 0.0341 - accuracy: 0.9898 - val_loss: 0.0743 - val_accuracy: 0.9768\n",
      "Epoch 9/200\n",
      "375/375 [==============================] - 6s 14ms/step - loss: 0.0297 - accuracy: 0.9909 - val_loss: 0.0792 - val_accuracy: 0.9747\n",
      "Epoch 10/200\n",
      "375/375 [==============================] - 6s 14ms/step - loss: 0.0287 - accuracy: 0.9908 - val_loss: 0.0702 - val_accuracy: 0.9779\n",
      "Epoch 11/200\n",
      "375/375 [==============================] - 6s 14ms/step - loss: 0.0267 - accuracy: 0.9920 - val_loss: 0.0888 - val_accuracy: 0.9758\n",
      "Epoch 12/200\n",
      "375/375 [==============================] - 6s 14ms/step - loss: 0.0256 - accuracy: 0.9921 - val_loss: 0.0509 - val_accuracy: 0.9839\n",
      "Epoch 13/200\n",
      "375/375 [==============================] - 6s 14ms/step - loss: 0.0262 - accuracy: 0.9916 - val_loss: 0.0964 - val_accuracy: 0.9707\n",
      "Epoch 14/200\n",
      "375/375 [==============================] - 6s 14ms/step - loss: 0.0220 - accuracy: 0.9934 - val_loss: 0.0920 - val_accuracy: 0.9737\n",
      "Epoch 15/200\n",
      "375/375 [==============================] - 6s 14ms/step - loss: 0.0236 - accuracy: 0.9921 - val_loss: 0.0608 - val_accuracy: 0.9819\n",
      "Epoch 16/200\n",
      "375/375 [==============================] - 6s 14ms/step - loss: 0.0204 - accuracy: 0.9932 - val_loss: 0.1276 - val_accuracy: 0.9621\n",
      "Epoch 17/200\n",
      "375/375 [==============================] - 6s 14ms/step - loss: 0.0223 - accuracy: 0.9929 - val_loss: 0.0638 - val_accuracy: 0.9809\n",
      "Epoch 18/200\n",
      "375/375 [==============================] - 6s 14ms/step - loss: 0.0214 - accuracy: 0.9936 - val_loss: 0.0478 - val_accuracy: 0.9861\n",
      "Epoch 19/200\n",
      "375/375 [==============================] - 6s 14ms/step - loss: 0.0198 - accuracy: 0.9943 - val_loss: 0.0618 - val_accuracy: 0.9795\n",
      "Epoch 20/200\n",
      "375/375 [==============================] - 6s 14ms/step - loss: 0.0208 - accuracy: 0.9929 - val_loss: 0.0563 - val_accuracy: 0.9834\n",
      "Epoch 21/200\n",
      "375/375 [==============================] - 6s 14ms/step - loss: 0.0179 - accuracy: 0.9942 - val_loss: 0.0816 - val_accuracy: 0.9758\n",
      "Epoch 22/200\n",
      "375/375 [==============================] - 6s 14ms/step - loss: 0.0173 - accuracy: 0.9947 - val_loss: 0.0410 - val_accuracy: 0.9879\n",
      "Epoch 23/200\n",
      "375/375 [==============================] - 6s 14ms/step - loss: 0.0174 - accuracy: 0.9944 - val_loss: 0.0470 - val_accuracy: 0.9858\n",
      "Epoch 24/200\n",
      "375/375 [==============================] - 6s 14ms/step - loss: 0.0176 - accuracy: 0.9936 - val_loss: 0.0413 - val_accuracy: 0.9881\n",
      "Epoch 25/200\n",
      "375/375 [==============================] - 6s 14ms/step - loss: 0.0136 - accuracy: 0.9958 - val_loss: 0.0401 - val_accuracy: 0.9886\n",
      "Epoch 26/200\n",
      "375/375 [==============================] - 6s 14ms/step - loss: 0.0181 - accuracy: 0.9947 - val_loss: 0.0308 - val_accuracy: 0.9907\n",
      "Epoch 27/200\n",
      "375/375 [==============================] - 6s 14ms/step - loss: 0.0150 - accuracy: 0.9950 - val_loss: 0.0413 - val_accuracy: 0.9874\n",
      "Epoch 28/200\n",
      "375/375 [==============================] - 6s 14ms/step - loss: 0.0166 - accuracy: 0.9952 - val_loss: 0.0464 - val_accuracy: 0.9861\n",
      "Epoch 29/200\n",
      "375/375 [==============================] - 6s 14ms/step - loss: 0.0139 - accuracy: 0.9957 - val_loss: 0.0446 - val_accuracy: 0.9868\n",
      "Epoch 30/200\n",
      "375/375 [==============================] - 6s 14ms/step - loss: 0.0168 - accuracy: 0.9948 - val_loss: 0.0509 - val_accuracy: 0.9847\n",
      "313/313 [==============================] - 1s 2ms/step - loss: 0.0762 - accuracy: 0.9763\n",
      "Test loss: 0.0762137919664383, Test accuracy: 0.9763000011444092, Error rate: 0.02369999885559082\n"
     ]
    },
    {
     "data": {
      "image/png": "[encoded data removed]",
      "text/plain": [
       "<Figure size 432x288 with 2 Axes>"
      ]
     },
     "metadata": {},
     "output_type": "display_data"
    }
   ],
   "source": [
    "batch_size = 128\n",
    "\n",
    "datagen = tf.keras.preprocessing.image.ImageDataGenerator(\n",
    "    rotation_range=10,\n",
    "    shear_range=0.1,\n",
    "    width_shift_range=0.1,\n",
    "    height_shift_range=0.1,\n",
    "    zoom_range=0.2,\n",
    "    validation_split=0.2,\n",
    ")\n",
    "datagen.fit(x_train)\n",
    "\n",
    "training_generator = datagen.flow(\n",
    "    x_train,\n",
    "    y_train,\n",
    "    subset=\"training\",\n",
    "    batch_size=batch_size,\n",
    ")\n",
    "validation_generator = datagen.flow(\n",
    "    x_train,\n",
    "    y_train,\n",
    "    subset=\"validation\",\n",
    "    batch_size=batch_size,\n",
    ")\n",
    "\n",
    "logdir = os.path.join(\"logs\", datetime.datetime.now().strftime(\"%Y%m%d-%H%M%S\"))\n",
    "tensorboard_callback = tf.keras.callbacks.TensorBoard(logdir, histogram_freq=1)\n",
    "\n",
    "%load_ext tensorboard\n",
    "%tensorboard --logdir logs\n",
    "\n",
    "\n",
    "history = model.fit(\n",
    "    training_generator,\n",
    "    validation_data=validation_generator,\n",
    "    epochs=200,\n",
    "    verbose=1,\n",
    "    use_multiprocessing=True,\n",
    "    workers=24,\n",
    "    callbacks=[\n",
    "        tf.keras.callbacks.EarlyStopping(monitor=\"loss\", patience=5),\n",
    "        tensorboard_callback,\n",
    "    ],\n",
    ")\n",
    "\n",
    "# Evaluate the model with the test data.\n",
    "test_loss, test_accuracy = model_reports.model_fit_report(\n",
    "    model=model,\n",
    "    history=history,\n",
    "    test_data=(x_test, y_test),\n",
    ")"
   ]
  },
  {
   "cell_type": "code",
   "execution_count": null,
   "metadata": {},
   "outputs": [],
   "source": []
  }
 ],
 "metadata": {
  "kernelspec": {
   "display_name": "Python 3",
   "language": "python",
   "name": "python3"
  },
  "language_info": {
   "codemirror_mode": {
    "name": "ipython",
    "version": 3
   },
   "file_extension": ".py",
   "mimetype": "text/x-python",
   "name": "python",
   "nbconvert_exporter": "python",
   "pygments_lexer": "ipython3",
   "version": "3.8.5"
  }
 },
 "nbformat": 4,
 "nbformat_minor": 1
}