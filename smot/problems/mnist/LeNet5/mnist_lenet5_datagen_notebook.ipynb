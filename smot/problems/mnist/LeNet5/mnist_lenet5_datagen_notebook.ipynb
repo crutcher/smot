{
 "cells": [
  {
   "cell_type": "code",
   "execution_count": 1,
   "metadata": {
    "pycharm": {
     "is_executing": true
    }
   },
   "outputs": [],
   "source": [
    "import tensorflow as tf\n",
    "\n",
    "from smot.jupyter import model_reports\n",
    "from smot.problems.mnist.LeNet5 import lenet5_lib"
   ]
  },
  {
   "cell_type": "code",
   "execution_count": 2,
   "metadata": {
    "pycharm": {
     "name": "#%%\n"
    }
   },
   "outputs": [],
   "source": [
    "# Load (and cache) standard MNIST dataset.\n",
    "(x_train, y_train), (x_test, y_test) = lenet5_lib.load_LeNet5_datasets()"
   ]
  },
  {
   "cell_type": "code",
   "execution_count": 3,
   "metadata": {
    "pycharm": {
     "name": "#%%\n"
    }
   },
   "outputs": [
    {
     "name": "stdout",
     "output_type": "stream",
     "text": [
      "Model: \"LeNet5\"\n",
      "_________________________________________________________________\n",
      "Layer (type)                 Output Shape              Param #   \n",
      "=================================================================\n",
      "conv2d (Conv2D)              (None, 28, 28, 6)         156       \n",
      "_________________________________________________________________\n",
      "average_pooling2d (AveragePo (None, 14, 14, 6)         0         \n",
      "_________________________________________________________________\n",
      "conv2d_1 (Conv2D)            (None, 10, 10, 16)        2416      \n",
      "_________________________________________________________________\n",
      "average_pooling2d_1 (Average (None, 5, 5, 16)          0         \n",
      "_________________________________________________________________\n",
      "flatten (Flatten)            (None, 400)               0         \n",
      "_________________________________________________________________\n",
      "dense (Dense)                (None, 120)               48120     \n",
      "_________________________________________________________________\n",
      "dense_1 (Dense)              (None, 84)                10164     \n",
      "_________________________________________________________________\n",
      "dense_2 (Dense)              (None, 10)                850       \n",
      "=================================================================\n",
      "Total params: 61,706\n",
      "Trainable params: 61,706\n",
      "Non-trainable params: 0\n",
      "_________________________________________________________________\n",
      "Epoch 1/50\n",
      "375/375 [==============================] - 12s 28ms/step - loss: 1.2648 - accuracy: 0.5926 - val_loss: 0.4282 - val_accuracy: 0.8687\n",
      "Epoch 2/50\n",
      "375/375 [==============================] - 10s 27ms/step - loss: 0.3404 - accuracy: 0.8971 - val_loss: 0.2183 - val_accuracy: 0.9328\n",
      "Epoch 3/50\n",
      "375/375 [==============================] - 10s 27ms/step - loss: 0.1983 - accuracy: 0.9395 - val_loss: 0.1554 - val_accuracy: 0.9527\n",
      "Epoch 4/50\n",
      "375/375 [==============================] - 10s 27ms/step - loss: 0.1509 - accuracy: 0.9533 - val_loss: 0.1567 - val_accuracy: 0.9487\n",
      "Epoch 5/50\n",
      "375/375 [==============================] - 10s 27ms/step - loss: 0.1351 - accuracy: 0.9589 - val_loss: 0.1193 - val_accuracy: 0.9636\n",
      "Epoch 6/50\n",
      "375/375 [==============================] - 10s 27ms/step - loss: 0.1194 - accuracy: 0.9620 - val_loss: 0.1088 - val_accuracy: 0.9674\n",
      "Epoch 7/50\n",
      "375/375 [==============================] - 10s 27ms/step - loss: 0.1063 - accuracy: 0.9668 - val_loss: 0.1015 - val_accuracy: 0.9672\n",
      "Epoch 8/50\n",
      "375/375 [==============================] - 10s 27ms/step - loss: 0.0875 - accuracy: 0.9705 - val_loss: 0.0994 - val_accuracy: 0.9699\n",
      "Epoch 9/50\n",
      "375/375 [==============================] - 10s 27ms/step - loss: 0.0889 - accuracy: 0.9719 - val_loss: 0.1026 - val_accuracy: 0.9689\n",
      "Epoch 10/50\n",
      "375/375 [==============================] - 10s 27ms/step - loss: 0.0929 - accuracy: 0.9699 - val_loss: 0.0913 - val_accuracy: 0.9723\n",
      "Epoch 11/50\n",
      "375/375 [==============================] - 10s 28ms/step - loss: 0.0826 - accuracy: 0.9733 - val_loss: 0.0881 - val_accuracy: 0.9738\n",
      "Epoch 12/50\n",
      "375/375 [==============================] - 10s 27ms/step - loss: 0.0808 - accuracy: 0.9749 - val_loss: 0.0972 - val_accuracy: 0.9703\n",
      "Epoch 13/50\n",
      "375/375 [==============================] - 10s 27ms/step - loss: 0.0768 - accuracy: 0.9751 - val_loss: 0.0845 - val_accuracy: 0.9747\n",
      "Epoch 14/50\n",
      "375/375 [==============================] - 10s 27ms/step - loss: 0.0753 - accuracy: 0.9757 - val_loss: 0.0837 - val_accuracy: 0.9751\n",
      "Epoch 15/50\n",
      "375/375 [==============================] - 10s 28ms/step - loss: 0.0703 - accuracy: 0.9774 - val_loss: 0.0718 - val_accuracy: 0.9789\n",
      "Epoch 16/50\n",
      "375/375 [==============================] - 10s 27ms/step - loss: 0.0641 - accuracy: 0.9801 - val_loss: 0.0771 - val_accuracy: 0.9763\n",
      "Epoch 17/50\n",
      "375/375 [==============================] - 10s 27ms/step - loss: 0.0698 - accuracy: 0.9778 - val_loss: 0.0694 - val_accuracy: 0.9804\n",
      "Epoch 18/50\n",
      "375/375 [==============================] - 10s 28ms/step - loss: 0.0632 - accuracy: 0.9803 - val_loss: 0.0822 - val_accuracy: 0.9757\n",
      "Epoch 19/50\n",
      "375/375 [==============================] - 10s 27ms/step - loss: 0.0625 - accuracy: 0.9800 - val_loss: 0.0699 - val_accuracy: 0.9795\n",
      "Epoch 20/50\n",
      "375/375 [==============================] - 10s 27ms/step - loss: 0.0609 - accuracy: 0.9805 - val_loss: 0.0680 - val_accuracy: 0.9795\n",
      "Epoch 21/50\n",
      "375/375 [==============================] - 10s 27ms/step - loss: 0.0566 - accuracy: 0.9820 - val_loss: 0.0760 - val_accuracy: 0.9775\n",
      "Epoch 22/50\n",
      "375/375 [==============================] - 10s 28ms/step - loss: 0.0575 - accuracy: 0.9820 - val_loss: 0.0632 - val_accuracy: 0.9811\n",
      "Epoch 23/50\n",
      "375/375 [==============================] - 10s 27ms/step - loss: 0.0564 - accuracy: 0.9818 - val_loss: 0.0764 - val_accuracy: 0.9767\n",
      "Epoch 24/50\n",
      "375/375 [==============================] - 10s 27ms/step - loss: 0.0568 - accuracy: 0.9824 - val_loss: 0.0675 - val_accuracy: 0.9804\n",
      "Epoch 25/50\n",
      "375/375 [==============================] - 10s 27ms/step - loss: 0.0523 - accuracy: 0.9833 - val_loss: 0.0623 - val_accuracy: 0.9825\n",
      "Epoch 26/50\n",
      "375/375 [==============================] - 10s 27ms/step - loss: 0.0507 - accuracy: 0.9842 - val_loss: 0.0606 - val_accuracy: 0.9822\n",
      "Epoch 27/50\n",
      "375/375 [==============================] - 10s 27ms/step - loss: 0.0576 - accuracy: 0.9819 - val_loss: 0.0620 - val_accuracy: 0.9832\n",
      "Epoch 28/50\n",
      "375/375 [==============================] - 10s 27ms/step - loss: 0.0493 - accuracy: 0.9844 - val_loss: 0.0663 - val_accuracy: 0.9804\n",
      "Epoch 29/50\n",
      "375/375 [==============================] - 10s 27ms/step - loss: 0.0525 - accuracy: 0.9834 - val_loss: 0.0614 - val_accuracy: 0.9830\n",
      "Epoch 30/50\n",
      "375/375 [==============================] - 10s 27ms/step - loss: 0.0523 - accuracy: 0.9834 - val_loss: 0.0585 - val_accuracy: 0.9827\n",
      "Epoch 31/50\n",
      "375/375 [==============================] - 10s 27ms/step - loss: 0.0475 - accuracy: 0.9847 - val_loss: 0.0512 - val_accuracy: 0.9851\n",
      "Epoch 32/50\n",
      "375/375 [==============================] - 10s 27ms/step - loss: 0.0474 - accuracy: 0.9857 - val_loss: 0.0686 - val_accuracy: 0.9818\n",
      "Epoch 33/50\n",
      "375/375 [==============================] - 10s 27ms/step - loss: 0.0478 - accuracy: 0.9850 - val_loss: 0.0579 - val_accuracy: 0.9818\n",
      "Epoch 34/50\n",
      "375/375 [==============================] - 10s 28ms/step - loss: 0.0451 - accuracy: 0.9865 - val_loss: 0.0670 - val_accuracy: 0.9794\n",
      "Epoch 35/50\n",
      "375/375 [==============================] - 10s 27ms/step - loss: 0.0461 - accuracy: 0.9862 - val_loss: 0.0564 - val_accuracy: 0.9841\n",
      "Epoch 36/50\n",
      "375/375 [==============================] - 10s 27ms/step - loss: 0.0464 - accuracy: 0.9860 - val_loss: 0.0617 - val_accuracy: 0.9831\n",
      "Epoch 37/50\n",
      "375/375 [==============================] - 10s 27ms/step - loss: 0.0469 - accuracy: 0.9853 - val_loss: 0.0651 - val_accuracy: 0.9817\n",
      "Epoch 38/50\n",
      "375/375 [==============================] - 10s 27ms/step - loss: 0.0423 - accuracy: 0.9866 - val_loss: 0.0532 - val_accuracy: 0.9833\n",
      "Epoch 39/50\n",
      "375/375 [==============================] - 10s 27ms/step - loss: 0.0481 - accuracy: 0.9854 - val_loss: 0.0577 - val_accuracy: 0.9821\n",
      "Epoch 40/50\n",
      "375/375 [==============================] - 10s 27ms/step - loss: 0.0425 - accuracy: 0.9865 - val_loss: 0.0655 - val_accuracy: 0.9811\n",
      "Epoch 41/50\n",
      "375/375 [==============================] - 10s 27ms/step - loss: 0.0423 - accuracy: 0.9865 - val_loss: 0.0591 - val_accuracy: 0.9821\n",
      "Epoch 42/50\n",
      "375/375 [==============================] - 10s 28ms/step - loss: 0.0432 - accuracy: 0.9858 - val_loss: 0.0644 - val_accuracy: 0.9805\n",
      "Epoch 43/50\n",
      "375/375 [==============================] - 10s 27ms/step - loss: 0.0396 - accuracy: 0.9879 - val_loss: 0.0631 - val_accuracy: 0.9823\n",
      "Epoch 44/50\n",
      "375/375 [==============================] - 10s 27ms/step - loss: 0.0466 - accuracy: 0.9848 - val_loss: 0.0547 - val_accuracy: 0.9835\n",
      "Epoch 45/50\n",
      "375/375 [==============================] - 10s 27ms/step - loss: 0.0429 - accuracy: 0.9868 - val_loss: 0.0561 - val_accuracy: 0.9840\n",
      "Epoch 46/50\n",
      "375/375 [==============================] - 10s 27ms/step - loss: 0.0399 - accuracy: 0.9874 - val_loss: 0.0551 - val_accuracy: 0.9826\n",
      "Epoch 47/50\n",
      "375/375 [==============================] - 10s 27ms/step - loss: 0.0411 - accuracy: 0.9864 - val_loss: 0.0487 - val_accuracy: 0.9867\n"
     ]
    },
    {
     "name": "stdout",
     "output_type": "stream",
     "text": [
      "Epoch 48/50\n",
      "375/375 [==============================] - 10s 27ms/step - loss: 0.0385 - accuracy: 0.9872 - val_loss: 0.0544 - val_accuracy: 0.9849\n",
      "Epoch 49/50\n",
      "375/375 [==============================] - 10s 28ms/step - loss: 0.0385 - accuracy: 0.9880 - val_loss: 0.0506 - val_accuracy: 0.9837\n",
      "Epoch 50/50\n",
      "375/375 [==============================] - 10s 27ms/step - loss: 0.0383 - accuracy: 0.9874 - val_loss: 0.0631 - val_accuracy: 0.9820\n",
      "313/313 [==============================] - 1s 2ms/step - loss: 0.0256 - accuracy: 0.9918\n",
      "Test loss: 0.02555939368903637, Test accuracy: 0.9918000102043152, Error rate: 0.008199989795684814\n"
     ]
    },
    {
     "data": {
      "image/png": "[encoded data removed]",
      "text/plain": [
       "<Figure size 432x288 with 2 Axes>"
      ]
     },
     "metadata": {},
     "output_type": "display_data"
    }
   ],
   "source": [
    "model = lenet5_lib.build_LeNet5_model()\n",
    "\n",
    "# Print the model summary.\n",
    "model.summary()\n",
    "\n",
    "batch_size = 128\n",
    "validation_split = 0.2\n",
    "epochs = 50\n",
    "\n",
    "datagen = tf.keras.preprocessing.image.ImageDataGenerator(\n",
    "    rotation_range=10,\n",
    "    shear_range=0.1,\n",
    "    width_shift_range=0.1,\n",
    "    height_shift_range=0.1,\n",
    "    zoom_range=0.2,\n",
    "    validation_split=validation_split,\n",
    ")\n",
    "datagen.fit(x_train)\n",
    "\n",
    "training_generator = datagen.flow(\n",
    "    x_train,\n",
    "    y_train,\n",
    "    subset=\"training\",\n",
    "    batch_size=batch_size,\n",
    ")\n",
    "validation_generator = datagen.flow(\n",
    "    x_train,\n",
    "    y_train,\n",
    "    subset=\"validation\",\n",
    "    batch_size=batch_size,\n",
    ")\n",
    "\n",
    "history = model.fit(\n",
    "    training_generator,\n",
    "    validation_data=validation_generator,\n",
    "    epochs=epochs,\n",
    "    verbose=1,\n",
    ")\n",
    "\n",
    "# Evaluate the model with the test data.\n",
    "test_loss, test_accuracy = model_reports.model_fit_report(\n",
    "    model=model,\n",
    "    history=history,\n",
    "    test_data=(x_test, y_test),\n",
    ")"
   ]
  }
 ],
 "metadata": {
  "kernelspec": {
   "display_name": "Python 3",
   "language": "python",
   "name": "python3"
  },
  "language_info": {
   "codemirror_mode": {
    "name": "ipython",
    "version": 3
   },
   "file_extension": ".py",
   "mimetype": "text/x-python",
   "name": "python",
   "nbconvert_exporter": "python",
   "pygments_lexer": "ipython3",
   "version": "3.8.5"
  }
 },
 "nbformat": 4,
 "nbformat_minor": 1
}
