{
 "cells": [
  {
   "cell_type": "code",
   "execution_count": 1,
   "metadata": {
    "collapsed": true
   },
   "outputs": [],
   "source": [
    "import pandas as pd\n",
    "\n",
    "from smot.training import kaggle_data"
   ]
  },
  {
   "cell_type": "code",
   "execution_count": 2,
   "metadata": {
    "collapsed": false,
    "pycharm": {
     "name": "#%%\n"
    }
   },
   "outputs": [],
   "source": [
    "df = pd.read_csv(kaggle_data.kaggle_data_path(\"titanic\", \"train.csv\"))\n",
    "# PassengerId,Survived,Pclass,Name,Sex,Age,SibSp,Parch,Ticket,Fare,Cabin,Embarked\n",
    "\n",
    "# PassengerId: int\n",
    "# dataset id of passenger.\n",
    "\n",
    "# Survived: bool\n",
    "# 0 = No, 1 = Yes\n",
    "# Did the passenger survive?\n",
    "\n",
    "# Pclass: category\n",
    "# Ticket class of the passenger\n",
    "# 1 = 1st, 2 = 2nd, 3 = 3rd\n",
    "\n",
    "# Sex: category\n",
    "# \"male\", \"female\"\n",
    "# Gender of the passenger\n",
    "\n",
    "# Name: str\n",
    "# Name of the passenger.\n",
    "\n",
    "# Age: float\n",
    "# Age in years of the passenger.\n",
    "# Age is fractional if less than 1.\n",
    "# If the age is estimated, is it in the form of xx.5\n",
    "\n",
    "# SibSp: int\n",
    "# of siblings / spouses aboard the Titanic\n",
    "# Sibling = brother, sister, stepbrother, stepsister\n",
    "# Spouse = husband, wife (mistresses and fiancés were ignored)\n",
    "\n",
    "# Parch: int\n",
    "# of parents / children aboard the Titanic\n",
    "# Parent = mother, father\n",
    "# Child = daughter, son, stepdaughter, stepson\n",
    "# Some children travelled only with a nanny, therefore parch=0 for them.\n",
    "\n",
    "# Ticket: int\n",
    "# Ticket number.\n",
    "\n",
    "# Fare: int\n",
    "# Ticket price.\n",
    "\n",
    "# Cabin: int\n",
    "# Cabin number.\n",
    "\n",
    "# Embarked: category\n",
    "# C = Cherbourg, Q = Queenstown, S = Southampton\n",
    "# Port of embarkation."
   ]
  },
  {
   "cell_type": "code",
   "execution_count": null,
   "metadata": {
    "collapsed": false,
    "pycharm": {
     "name": "#%%\n"
    }
   },
   "outputs": [],
   "source": [
    "# id, survived, age, class (1-hot), sex (1-hot)\n",
    "\n"
   ]
  }
 ],
 "metadata": {
  "kernelspec": {
   "display_name": "Python 3",
   "language": "python",
   "name": "python3"
  },
  "language_info": {
   "codemirror_mode": {
    "name": "ipython",
    "version": 2
   },
   "file_extension": ".py",
   "mimetype": "text/x-python",
   "name": "python",
   "nbconvert_exporter": "python",
   "pygments_lexer": "ipython2",
   "version": "2.7.6"
  }
 },
 "nbformat": 4,
 "nbformat_minor": 0
}